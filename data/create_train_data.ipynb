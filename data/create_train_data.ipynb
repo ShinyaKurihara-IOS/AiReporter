{
  "nbformat": 4,
  "nbformat_minor": 0,
  "metadata": {
    "colab": {
      "name": "create_train_data.ipynb",
      "provenance": [],
      "collapsed_sections": []
    },
    "kernelspec": {
      "name": "python3",
      "display_name": "Python 3"
    },
    "language_info": {
      "name": "python"
    }
  },
  "cells": [
    {
      "cell_type": "code",
      "metadata": {
        "colab": {
          "base_uri": "https://localhost:8080/"
        },
        "id": "Nvgr4II-ieye",
        "outputId": "4e4cf59e-4c5c-4d76-97e3-e85e380d77ec"
      },
      "source": [
        "!pip install \"https://github.com/megagonlabs/ginza/releases/download/latest/ginza-latest.tar.gz\""
      ],
      "execution_count": 1,
      "outputs": [
        {
          "output_type": "stream",
          "text": [
            "Collecting https://github.com/megagonlabs/ginza/releases/download/latest/ginza-latest.tar.gz\n",
            "  Downloading https://github.com/megagonlabs/ginza/releases/download/latest/ginza-latest.tar.gz\n",
            "Requirement already satisfied: spacy>=2.2.0 in /usr/local/lib/python3.7/dist-packages (from ginza==2.2.1) (2.2.4)\n",
            "Collecting ja_ginza@ https://github.com/megagonlabs/ginza/releases/download/v2.2.0/ja_ginza-2.2.0.tar.gz\n",
            "\u001b[?25l  Downloading https://github.com/megagonlabs/ginza/releases/download/v2.2.0/ja_ginza-2.2.0.tar.gz (54.6MB)\n",
            "\u001b[K     |████████████████████████████████| 54.6MB 112kB/s \n",
            "\u001b[?25hCollecting SudachiPy>=0.4.0\n",
            "\u001b[?25l  Downloading https://files.pythonhosted.org/packages/86/c9/1ccdbb8cb70925b6a6b0b99c2574b453c1dfee08695dd1ebbe6f966bc42f/SudachiPy-0.5.2.tar.gz (70kB)\n",
            "\u001b[K     |████████████████████████████████| 71kB 4.6MB/s \n",
            "\u001b[?25hCollecting SudachiDict_core@ https://github.com/megagonlabs/ginza/releases/download/v2.2.0/SudachiDict_core-20190927.tar.gz\n",
            "\u001b[?25l  Downloading https://github.com/megagonlabs/ginza/releases/download/v2.2.0/SudachiDict_core-20190927.tar.gz (70.7MB)\n",
            "\u001b[K     |████████████████████████████████| 70.7MB 119kB/s \n",
            "\u001b[?25hRequirement already satisfied: numpy>=1.15.0 in /usr/local/lib/python3.7/dist-packages (from spacy>=2.2.0->ginza==2.2.1) (1.19.5)\n",
            "Requirement already satisfied: preshed<3.1.0,>=3.0.2 in /usr/local/lib/python3.7/dist-packages (from spacy>=2.2.0->ginza==2.2.1) (3.0.5)\n",
            "Requirement already satisfied: tqdm<5.0.0,>=4.38.0 in /usr/local/lib/python3.7/dist-packages (from spacy>=2.2.0->ginza==2.2.1) (4.41.1)\n",
            "Requirement already satisfied: thinc==7.4.0 in /usr/local/lib/python3.7/dist-packages (from spacy>=2.2.0->ginza==2.2.1) (7.4.0)\n",
            "Requirement already satisfied: plac<1.2.0,>=0.9.6 in /usr/local/lib/python3.7/dist-packages (from spacy>=2.2.0->ginza==2.2.1) (1.1.3)\n",
            "Requirement already satisfied: murmurhash<1.1.0,>=0.28.0 in /usr/local/lib/python3.7/dist-packages (from spacy>=2.2.0->ginza==2.2.1) (1.0.5)\n",
            "Requirement already satisfied: setuptools in /usr/local/lib/python3.7/dist-packages (from spacy>=2.2.0->ginza==2.2.1) (57.0.0)\n",
            "Requirement already satisfied: cymem<2.1.0,>=2.0.2 in /usr/local/lib/python3.7/dist-packages (from spacy>=2.2.0->ginza==2.2.1) (2.0.5)\n",
            "Requirement already satisfied: blis<0.5.0,>=0.4.0 in /usr/local/lib/python3.7/dist-packages (from spacy>=2.2.0->ginza==2.2.1) (0.4.1)\n",
            "Requirement already satisfied: wasabi<1.1.0,>=0.4.0 in /usr/local/lib/python3.7/dist-packages (from spacy>=2.2.0->ginza==2.2.1) (0.8.2)\n",
            "Requirement already satisfied: srsly<1.1.0,>=1.0.2 in /usr/local/lib/python3.7/dist-packages (from spacy>=2.2.0->ginza==2.2.1) (1.0.5)\n",
            "Requirement already satisfied: catalogue<1.1.0,>=0.0.7 in /usr/local/lib/python3.7/dist-packages (from spacy>=2.2.0->ginza==2.2.1) (1.0.0)\n",
            "Requirement already satisfied: requests<3.0.0,>=2.13.0 in /usr/local/lib/python3.7/dist-packages (from spacy>=2.2.0->ginza==2.2.1) (2.23.0)\n",
            "Collecting sortedcontainers~=2.1.0\n",
            "  Downloading https://files.pythonhosted.org/packages/13/f3/cf85f7c3a2dbd1a515d51e1f1676d971abe41bba6f4ab5443240d9a78e5b/sortedcontainers-2.1.0-py2.py3-none-any.whl\n",
            "Collecting dartsclone~=0.9.0\n",
            "\u001b[?25l  Downloading https://files.pythonhosted.org/packages/63/6e/3680ae2eb9fe32698f7489630186314106b8464ad37747268ff36fe2dec7/dartsclone-0.9.0-cp37-cp37m-manylinux1_x86_64.whl (473kB)\n",
            "\u001b[K     |████████████████████████████████| 481kB 9.7MB/s \n",
            "\u001b[?25hRequirement already satisfied: importlib-metadata>=0.20; python_version < \"3.8\" in /usr/local/lib/python3.7/dist-packages (from catalogue<1.1.0,>=0.0.7->spacy>=2.2.0->ginza==2.2.1) (4.6.0)\n",
            "Requirement already satisfied: urllib3!=1.25.0,!=1.25.1,<1.26,>=1.21.1 in /usr/local/lib/python3.7/dist-packages (from requests<3.0.0,>=2.13.0->spacy>=2.2.0->ginza==2.2.1) (1.24.3)\n",
            "Requirement already satisfied: certifi>=2017.4.17 in /usr/local/lib/python3.7/dist-packages (from requests<3.0.0,>=2.13.0->spacy>=2.2.0->ginza==2.2.1) (2021.5.30)\n",
            "Requirement already satisfied: chardet<4,>=3.0.2 in /usr/local/lib/python3.7/dist-packages (from requests<3.0.0,>=2.13.0->spacy>=2.2.0->ginza==2.2.1) (3.0.4)\n",
            "Requirement already satisfied: idna<3,>=2.5 in /usr/local/lib/python3.7/dist-packages (from requests<3.0.0,>=2.13.0->spacy>=2.2.0->ginza==2.2.1) (2.10)\n",
            "Requirement already satisfied: Cython in /usr/local/lib/python3.7/dist-packages (from dartsclone~=0.9.0->SudachiPy>=0.4.0->ginza==2.2.1) (0.29.23)\n",
            "Requirement already satisfied: zipp>=0.5 in /usr/local/lib/python3.7/dist-packages (from importlib-metadata>=0.20; python_version < \"3.8\"->catalogue<1.1.0,>=0.0.7->spacy>=2.2.0->ginza==2.2.1) (3.4.1)\n",
            "Requirement already satisfied: typing-extensions>=3.6.4; python_version < \"3.8\" in /usr/local/lib/python3.7/dist-packages (from importlib-metadata>=0.20; python_version < \"3.8\"->catalogue<1.1.0,>=0.0.7->spacy>=2.2.0->ginza==2.2.1) (3.7.4.3)\n",
            "Building wheels for collected packages: ginza, ja-ginza, SudachiPy, SudachiDict-core\n",
            "  Building wheel for ginza (setup.py) ... \u001b[?25l\u001b[?25hdone\n",
            "  Created wheel for ginza: filename=ginza-2.2.1-cp37-none-any.whl size=11779 sha256=8eefe2329937115f47421b49a0aaa8a88e8647ec56e430187b079f14d46bc4b2\n",
            "  Stored in directory: /root/.cache/pip/wheels/6f/97/43/f9c8c315bcd598f595e96aae207b120a3b84564f03ddd8d6a7\n",
            "  Building wheel for ja-ginza (setup.py) ... \u001b[?25l\u001b[?25hdone\n",
            "  Created wheel for ja-ginza: filename=ja_ginza-2.2.0-cp37-none-any.whl size=54672046 sha256=a84dd2e537dfa44544c8c317bf9d79b91d7f8ed2d5a57477fa257b1e2a731b54\n",
            "  Stored in directory: /root/.cache/pip/wheels/21/63/1e/21ca7586a7abd427e0980f39a66549ba5d2543528b97253952\n",
            "  Building wheel for SudachiPy (setup.py) ... \u001b[?25l\u001b[?25hdone\n",
            "  Created wheel for SudachiPy: filename=SudachiPy-0.5.2-cp37-cp37m-linux_x86_64.whl size=870172 sha256=0b58be37134f6dd27990e6008fe6c67308eefb1e023bf1c214a0cb8dfc80ac1d\n",
            "  Stored in directory: /root/.cache/pip/wheels/f1/cc/90/8c68725c622127bb3e5dc46756a8c03bd548dc6d756e66c72d\n",
            "  Building wheel for SudachiDict-core (setup.py) ... \u001b[?25l\u001b[?25hdone\n",
            "  Created wheel for SudachiDict-core: filename=SudachiDict_core-20190927-cp37-none-any.whl size=70878529 sha256=5ed36f42d4fca0143198051d9b8a38625318439c983567ad7416ecad620db8b2\n",
            "  Stored in directory: /root/.cache/pip/wheels/8b/09/39/f238d26db694c32e52cd2fe11aa9683e158644e56bd01dd578\n",
            "Successfully built ginza ja-ginza SudachiPy SudachiDict-core\n",
            "Installing collected packages: ja-ginza, sortedcontainers, dartsclone, SudachiPy, SudachiDict-core, ginza\n",
            "  Found existing installation: sortedcontainers 2.4.0\n",
            "    Uninstalling sortedcontainers-2.4.0:\n",
            "      Successfully uninstalled sortedcontainers-2.4.0\n",
            "Successfully installed SudachiDict-core-20190927 SudachiPy-0.5.2 dartsclone-0.9.0 ginza-2.2.1 ja-ginza-2.2.0 sortedcontainers-2.1.0\n"
          ],
          "name": "stdout"
        }
      ]
    },
    {
      "cell_type": "code",
      "metadata": {
        "colab": {
          "base_uri": "https://localhost:8080/"
        },
        "id": "xXFuz78RjTlU",
        "outputId": "2a067544-1aef-419b-a54c-18873c7a03eb"
      },
      "source": [
        "import pkg_resources, imp\n",
        "imp.reload(pkg_resources)"
      ],
      "execution_count": 2,
      "outputs": [
        {
          "output_type": "execute_result",
          "data": {
            "text/plain": [
              "<module 'pkg_resources' from '/usr/local/lib/python3.7/dist-packages/pkg_resources/__init__.py'>"
            ]
          },
          "metadata": {
            "tags": []
          },
          "execution_count": 2
        }
      ]
    },
    {
      "cell_type": "markdown",
      "metadata": {
        "id": "smI79eullUte"
      },
      "source": [
        "https://www.nogawanogawa.com/entry/ginza  \n",
        "https://www.mojirca.com/2019/10/colab-load-ginza.html  \n",
        "ランタイムの再起動はやはり必要そう  "
      ]
    },
    {
      "cell_type": "code",
      "metadata": {
        "id": "BHfi5OTVijxJ"
      },
      "source": [
        "import spacy\n",
        "from spacy import displacy\n",
        "# GiNZAモデルの読み込み\n",
        "nlp = spacy.load('ja_ginza')"
      ],
      "execution_count": 1,
      "outputs": []
    },
    {
      "cell_type": "code",
      "metadata": {
        "colab": {
          "base_uri": "https://localhost:8080/"
        },
        "id": "BqCiw2Kpij06",
        "outputId": "54ab6218-8e7c-4ab8-b9a0-26f81e5795e2"
      },
      "source": [
        "# googleドライブをマウント\n",
        "from google.colab import drive \n",
        "drive.mount('/content/drive')\n",
        "# 表示されるリンクをクリックして、アクセスを許可して、最後に表示される文字列を以下の入力欄に入れる"
      ],
      "execution_count": 2,
      "outputs": [
        {
          "output_type": "stream",
          "text": [
            "Mounted at /content/drive\n"
          ],
          "name": "stdout"
        }
      ]
    },
    {
      "cell_type": "code",
      "metadata": {
        "colab": {
          "base_uri": "https://localhost:8080/"
        },
        "id": "S6l7S60Uliyn",
        "outputId": "42ec301c-fc6b-4f5e-b167-012ed2147d3a"
      },
      "source": [
        "# 作業フォルダに移動\n",
        "%cd '/content/drive/My Drive/work/'"
      ],
      "execution_count": 3,
      "outputs": [
        {
          "output_type": "stream",
          "text": [
            "/content/drive/My Drive/work\n"
          ],
          "name": "stdout"
        }
      ]
    },
    {
      "cell_type": "code",
      "metadata": {
        "id": "6EAGJUiAZdIm"
      },
      "source": [
        ""
      ],
      "execution_count": null,
      "outputs": []
    },
    {
      "cell_type": "code",
      "metadata": {
        "colab": {
          "base_uri": "https://localhost:8080/"
        },
        "id": "sjVSgv1tZdvF",
        "outputId": "0834728b-182f-4de8-9653-ab709eb307f8"
      },
      "source": [
        "import json\n",
        "\n",
        "input_file = \"output_0001.json\"\n",
        "path_w = 'train_0001.txt'\n",
        "\n",
        "count_length = 0\n",
        "\n",
        "with open(path_w, mode='w') as f_out:\n",
        "  with open(input_file) as f_in:\n",
        "    json_text = json.load(f_in)\n",
        "    for v_result in json_text.values():\n",
        "      for v_alternatives in v_result:\n",
        "        for val_list in v_alternatives.values():\n",
        "          if isinstance(val_list, list):\n",
        "            for val in val_list:\n",
        "              count_length += len(val.get('transcript'))\n",
        "              f_out.write(val.get('transcript'))\n",
        "              f_out.write('。\\n')\n",
        "\n",
        "print('文字数')\n",
        "print(count_length)"
      ],
      "execution_count": 13,
      "outputs": [
        {
          "output_type": "stream",
          "text": [
            "4171\n"
          ],
          "name": "stdout"
        }
      ]
    },
    {
      "cell_type": "code",
      "metadata": {
        "id": "hHAxPYYkZeU-"
      },
      "source": [
        ""
      ],
      "execution_count": 13,
      "outputs": []
    },
    {
      "cell_type": "code",
      "metadata": {
        "id": "fgr-lDJtlv2Y"
      },
      "source": [
        "filepath = \"train_0001.txt\"\n",
        "with open(filepath) as f:\n",
        "    s = f.read()\n",
        "\n",
        "# 文章全体を解析\n",
        "doc = nlp(s) "
      ],
      "execution_count": 14,
      "outputs": []
    },
    {
      "cell_type": "code",
      "metadata": {
        "colab": {
          "base_uri": "https://localhost:8080/",
          "height": 1000
        },
        "id": "SNFeL57z4G2P",
        "outputId": "9e851431-e54e-4d6b-cc72-40d91cdfdfb4"
      },
      "source": [
        "#抽出したエンティティの種類に対して色を指定する\n",
        "colors = {\"COUNTRY\":\"#00cc00\", \"CITY\":\"#00cc00\", \"GPE_OTHER\":\"#00cc00\",\"OCCASION_OTHER\":\"#00cc00\",\n",
        "          \"LOCATION\":\"#00cc00\", \"LOCATION_OTHER\":\"#00cc00\",\"DOMESTIC_REGION\":\"#00cc00\",\"PROVINCE\":\"#00cc00\",\n",
        "          \"STATION\":\"#00cc00\", \"CONTINENTAL_REGION\":\"#00cc00\",\"THEATER\":\"#00cc00\",\n",
        "\n",
        "          \"TIME\":\"#adff2f\",\"DATE\":\"#adff2f\",\"DAY_OF_WEEK\":\"#adff2f\",\n",
        "          \"PERIOD_YEAR\":\"#adff2f\", \"PERIOD_MONTH\":\"#adff2f\", \"PERIOD_DAY\":\"#adff2f\",\n",
        "\n",
        "          \"FLORA\":\"#adff99\",\"FLORA_PART\":\"#adff99\",\n",
        "          \"DISH\":\"#ffeb99\",\"FOOD_OTHER\":\"#ffeb99\",\n",
        "\n",
        "          \"AGE\":\"#3385ff\",\"N_PERSON\":\"#3385ff\",\"N_EVENT\":\"#3385ff\",\"N_LOCATION_OTHER\":\"#3385ff\",\"RANK\":\"#3385ff\",\n",
        "          \"N_PRODUCT\":\"#3385ff\",\"\":\"#3385ff\",\"\":\"#3385ff\",\"\":\"#3385ff\",\"MEASUREMENT_OTHER\":\"#3385ff\",\"PERCENT\":\"#3385ff\",\n",
        "          \"N_ORGANIZATION\":\"#3385ff\", \"ORDINAL_NUMBER\":\"#3385ff\", \"N_FACILITY\":\"#3385ff\",\"SPEED\":\"#3385ff\",\n",
        "          \"PHONE_NUMBER\":\"#3385ff\",\n",
        "\n",
        "          \"MONEY\":\"#ffff00\",\n",
        "\n",
        "          \"COMPANY\":\"#99c2ff\", \"SCHOOL\":\"#99c2ff\", \"INTERNATIONAL_ORGANIZATION\":\"#99c2ff\",\n",
        "          \"GOE_OTHER\":\"#99c2ff\", \"SHOW_ORGANIZATION\":\"#99c2ff\",\"CORPORATION_OTHER\":\"#99c2ff\",\n",
        "\n",
        "          \"CLOTHING\":\"#ff66a3\",\n",
        "          \"PRODUCT_OTHER\":\"#ff66a3\",\n",
        "\n",
        "          \"PERSON\":\"#c266ff\",\n",
        "          \"POSITION_VOCATION\":\"#ebccff\",\n",
        "\n",
        "          \"MUSIC\":\"#ff7f50\", \"MOVIE\":\"#ff7f50\", \"GAME\":\"#ff7f50\", \"SPORT\":\"#ff7f50\", \"BOOK\":\"#ff7f50\", \n",
        "          \"BROADCAST_PROGRAM\":\"#ff7f50\", \n",
        "\n",
        "          \"ANIMAL_DISEASE\":\"#cd5c5c\"\n",
        "          }\n",
        "\n",
        "options = {\"colors\": colors}\n",
        "displacy.render(doc, style=\"ent\", options=options, jupyter=True)"
      ],
      "execution_count": 15,
      "outputs": [
        {
          "output_type": "display_data",
          "data": {
            "text/html": [
              "<span class=\"tex2jax_ignore\"><div class=\"entities\" style=\"line-height: 2.5; direction: ltr\">\n",
              "<mark class=\"entity\" style=\"background: #7aecec; padding: 0.45em 0.6em; margin: 0 0.25em; line-height: 1; border-radius: 0.35em;\">\n",
              "    神戸市立中央体育館\n",
              "    <span style=\"font-size: 0.8em; font-weight: bold; line-height: 1; border-radius: 0.35em; text-transform: uppercase; vertical-align: middle; margin-left: 0.5rem\">ORG</span>\n",
              "</mark>\n",
              "です\n",
              "<mark class=\"entity\" style=\"background: #adff2f; padding: 0.45em 0.6em; margin: 0 0.25em; line-height: 1; border-radius: 0.35em;\">\n",
              "    2021年\n",
              "    <span style=\"font-size: 0.8em; font-weight: bold; line-height: 1; border-radius: 0.35em; text-transform: uppercase; vertical-align: middle; margin-left: 0.5rem\">DATE</span>\n",
              "</mark>\n",
              "\n",
              "<mark class=\"entity\" style=\"background: #ff9561; padding: 0.45em 0.6em; margin: 0 0.25em; line-height: 1; border-radius: 0.35em;\">\n",
              "    西日本\n",
              "    <span style=\"font-size: 0.8em; font-weight: bold; line-height: 1; border-radius: 0.35em; text-transform: uppercase; vertical-align: middle; margin-left: 0.5rem\">LOC</span>\n",
              "</mark>\n",
              "では初めての試合ということになります失礼します野菜の工業ということになります\n",
              "<mark class=\"entity\" style=\"background: #adff2f; padding: 0.45em 0.6em; margin: 0 0.25em; line-height: 1; border-radius: 0.35em;\">\n",
              "    今日\n",
              "    <span style=\"font-size: 0.8em; font-weight: bold; line-height: 1; border-radius: 0.35em; text-transform: uppercase; vertical-align: middle; margin-left: 0.5rem\">DATE</span>\n",
              "</mark>\n",
              "は\n",
              "<mark class=\"entity\" style=\"background: #ff9561; padding: 0.45em 0.6em; margin: 0 0.25em; line-height: 1; border-radius: 0.35em;\">\n",
              "    西日本\n",
              "    <span style=\"font-size: 0.8em; font-weight: bold; line-height: 1; border-radius: 0.35em; text-transform: uppercase; vertical-align: middle; margin-left: 0.5rem\">LOC</span>\n",
              "</mark>\n",
              "全国各地で雨が降っています春の嵐となっていますが点いたり時に冷たい雨が降ったりまさに三寒四温春の訪れを感じさせるような雨でもどうなっています。 青コーナーから入場してきました\n",
              "<mark class=\"entity\" style=\"background: #c266ff; padding: 0.45em 0.6em; margin: 0 0.25em; line-height: 1; border-radius: 0.35em;\">\n",
              "    明美智子\n",
              "    <span style=\"font-size: 0.8em; font-weight: bold; line-height: 1; border-radius: 0.35em; text-transform: uppercase; vertical-align: middle; margin-left: 0.5rem\">PERSON</span>\n",
              "</mark>\n",
              "\n",
              "<mark class=\"entity\" style=\"background: #7aecec; padding: 0.45em 0.6em; margin: 0 0.25em; line-height: 1; border-radius: 0.35em;\">\n",
              "    東京世田谷大蔵ジムジム\n",
              "    <span style=\"font-size: 0.8em; font-weight: bold; line-height: 1; border-radius: 0.35em; text-transform: uppercase; vertical-align: middle; margin-left: 0.5rem\">ORG</span>\n",
              "</mark>\n",
              "で戦って2勝4敗これが\n",
              "<mark class=\"entity\" style=\"background: #adff2f; padding: 0.45em 0.6em; margin: 0 0.25em; line-height: 1; border-radius: 0.35em;\">\n",
              "    7000目\n",
              "    <span style=\"font-size: 0.8em; font-weight: bold; line-height: 1; border-radius: 0.35em; text-transform: uppercase; vertical-align: middle; margin-left: 0.5rem\">DATE</span>\n",
              "</mark>\n",
              "ということになりますデビューしてからなかなか勝てずに3連敗からの2連勝もあり\n",
              "<mark class=\"entity\" style=\"background: #adff2f; padding: 0.45em 0.6em; margin: 0 0.25em; line-height: 1; border-radius: 0.35em;\">\n",
              "    昨年\n",
              "    <span style=\"font-size: 0.8em; font-weight: bold; line-height: 1; border-radius: 0.35em; text-transform: uppercase; vertical-align: middle; margin-left: 0.5rem\">DATE</span>\n",
              "</mark>\n",
              "の\n",
              "<mark class=\"entity\" style=\"background: #adff2f; padding: 0.45em 0.6em; margin: 0 0.25em; line-height: 1; border-radius: 0.35em;\">\n",
              "    10月\n",
              "    <span style=\"font-size: 0.8em; font-weight: bold; line-height: 1; border-radius: 0.35em; text-transform: uppercase; vertical-align: middle; margin-left: 0.5rem\">DATE</span>\n",
              "</mark>\n",
              "に敗れて再びこれが作戦ということになります強い気持ちを持ってどんどん前に出る\n",
              "<mark class=\"entity\" style=\"background: #c266ff; padding: 0.45em 0.6em; margin: 0 0.25em; line-height: 1; border-radius: 0.35em;\">\n",
              "    阿比留通子\n",
              "    <span style=\"font-size: 0.8em; font-weight: bold; line-height: 1; border-radius: 0.35em; text-transform: uppercase; vertical-align: middle; margin-left: 0.5rem\">PERSON</span>\n",
              "</mark>\n",
              "の\n",
              "<mark class=\"entity\" style=\"background: #ffff00; padding: 0.45em 0.6em; margin: 0 0.25em; line-height: 1; border-radius: 0.35em;\">\n",
              "    ボクシング今日\n",
              "    <span style=\"font-size: 0.8em; font-weight: bold; line-height: 1; border-radius: 0.35em; text-transform: uppercase; vertical-align: middle; margin-left: 0.5rem\">MONEY</span>\n",
              "</mark>\n",
              "も見られるんでしょうか。 階段の前で一つ精神統一リングを見ました。 階段を踏みしめるように上がって今リング院です\n",
              "<mark class=\"entity\" style=\"background: #c266ff; padding: 0.45em 0.6em; margin: 0 0.25em; line-height: 1; border-radius: 0.35em;\">\n",
              "    阿比留通子青\n",
              "    <span style=\"font-size: 0.8em; font-weight: bold; line-height: 1; border-radius: 0.35em; text-transform: uppercase; vertical-align: middle; margin-left: 0.5rem\">PERSON</span>\n",
              "</mark>\n",
              "コーナーから入場しました。 女子フライ級4回戦で行われる\n",
              "<mark class=\"entity\" style=\"background: #c266ff; padding: 0.45em 0.6em; margin: 0 0.25em; line-height: 1; border-radius: 0.35em;\">\n",
              "    阿比留通子\n",
              "    <span style=\"font-size: 0.8em; font-weight: bold; line-height: 1; border-radius: 0.35em; text-transform: uppercase; vertical-align: middle; margin-left: 0.5rem\">PERSON</span>\n",
              "</mark>\n",
              "対\n",
              "<mark class=\"entity\" style=\"background: #c266ff; padding: 0.45em 0.6em; margin: 0 0.25em; line-height: 1; border-radius: 0.35em;\">\n",
              "    浜田麻里奈\n",
              "    <span style=\"font-size: 0.8em; font-weight: bold; line-height: 1; border-radius: 0.35em; text-transform: uppercase; vertical-align: middle; margin-left: 0.5rem\">PERSON</span>\n",
              "</mark>\n",
              "の一閃\n",
              "<mark class=\"entity\" style=\"background: #c266ff; padding: 0.45em 0.6em; margin: 0 0.25em; line-height: 1; border-radius: 0.35em;\">\n",
              "    阿比留通子\n",
              "    <span style=\"font-size: 0.8em; font-weight: bold; line-height: 1; border-radius: 0.35em; text-transform: uppercase; vertical-align: middle; margin-left: 0.5rem\">PERSON</span>\n",
              "</mark>\n",
              "三十歳。 もう破れた後に練習を回ってピンチの中でもしっかり気持ちで負けないメンタルを使ってきましたという風に全然語っていましたそして赤コーナーから入場してきました\n",
              "<mark class=\"entity\" style=\"background: #c266ff; padding: 0.45em 0.6em; margin: 0 0.25em; line-height: 1; border-radius: 0.35em;\">\n",
              "    浜田麻里\n",
              "    <span style=\"font-size: 0.8em; font-weight: bold; line-height: 1; border-radius: 0.35em; text-transform: uppercase; vertical-align: middle; margin-left: 0.5rem\">PERSON</span>\n",
              "</mark>\n",
              "な\n",
              "<mark class=\"entity\" style=\"background: #ff9561; padding: 0.45em 0.6em; margin: 0 0.25em; line-height: 1; border-radius: 0.35em;\">\n",
              "    兵庫県神戸市\n",
              "    <span style=\"font-size: 0.8em; font-weight: bold; line-height: 1; border-radius: 0.35em; text-transform: uppercase; vertical-align: middle; margin-left: 0.5rem\">LOC</span>\n",
              "</mark>\n",
              "出身地元の試合ということもあって大きな拍手に包まれています\n",
              "<mark class=\"entity\" style=\"background: #7aecec; padding: 0.45em 0.6em; margin: 0 0.25em; line-height: 1; border-radius: 0.35em;\">\n",
              "    神戸市立中央体育館\n",
              "    <span style=\"font-size: 0.8em; font-weight: bold; line-height: 1; border-radius: 0.35em; text-transform: uppercase; vertical-align: middle; margin-left: 0.5rem\">ORG</span>\n",
              "</mark>\n",
              "です\n",
              "<mark class=\"entity\" style=\"background: #ff9561; padding: 0.45em 0.6em; margin: 0 0.25em; line-height: 1; border-radius: 0.35em;\">\n",
              "    日本\n",
              "    <span style=\"font-size: 0.8em; font-weight: bold; line-height: 1; border-radius: 0.35em; text-transform: uppercase; vertical-align: middle; margin-left: 0.5rem\">LOC</span>\n",
              "</mark>\n",
              "女子フライ級5位に位置しているランクインしている\n",
              "<mark class=\"entity\" style=\"background: #c266ff; padding: 0.45em 0.6em; margin: 0 0.25em; line-height: 1; border-radius: 0.35em;\">\n",
              "    浜田麻里奈\n",
              "    <span style=\"font-size: 0.8em; font-weight: bold; line-height: 1; border-radius: 0.35em; text-transform: uppercase; vertical-align: middle; margin-left: 0.5rem\">PERSON</span>\n",
              "</mark>\n",
              "入場してきました。 \n",
              "<mark class=\"entity\" style=\"background: #ff9561; padding: 0.45em 0.6em; margin: 0 0.25em; line-height: 1; border-radius: 0.35em;\">\n",
              "    御堂筋\n",
              "    <span style=\"font-size: 0.8em; font-weight: bold; line-height: 1; border-radius: 0.35em; text-transform: uppercase; vertical-align: middle; margin-left: 0.5rem\">LOC</span>\n",
              "</mark>\n",
              "。 階段を上っていきますこれが\n",
              "<mark class=\"entity\" style=\"background: #adff2f; padding: 0.45em 0.6em; margin: 0 0.25em; line-height: 1; border-radius: 0.35em;\">\n",
              "    4000目\n",
              "    <span style=\"font-size: 0.8em; font-weight: bold; line-height: 1; border-radius: 0.35em; text-transform: uppercase; vertical-align: middle; margin-left: 0.5rem\">DATE</span>\n",
              "</mark>\n",
              "これまでデビューしてから負けを知りません\n",
              "<mark class=\"entity\" style=\"background: #c266ff; padding: 0.45em 0.6em; margin: 0 0.25em; line-height: 1; border-radius: 0.35em;\">\n",
              "    浜田麻里奈\n",
              "    <span style=\"font-size: 0.8em; font-weight: bold; line-height: 1; border-radius: 0.35em; text-transform: uppercase; vertical-align: middle; margin-left: 0.5rem\">PERSON</span>\n",
              "</mark>\n",
              "今リング院です地元の観客からは大きな拍手が送られていますかまだマイナーこれが4点目地元での試合ということになります観客に向かってメールをして試合に臨みます。 \n",
              "<mark class=\"entity\" style=\"background: #c266ff; padding: 0.45em 0.6em; margin: 0 0.25em; line-height: 1; border-radius: 0.35em;\">\n",
              "    阿比留通子\n",
              "    <span style=\"font-size: 0.8em; font-weight: bold; line-height: 1; border-radius: 0.35em; text-transform: uppercase; vertical-align: middle; margin-left: 0.5rem\">PERSON</span>\n",
              "</mark>\n",
              "30回\n",
              "<mark class=\"entity\" style=\"background: #ff9561; padding: 0.45em 0.6em; margin: 0 0.25em; line-height: 1; border-radius: 0.35em;\">\n",
              "    東京世田谷大蔵\n",
              "    <span style=\"font-size: 0.8em; font-weight: bold; line-height: 1; border-radius: 0.35em; text-transform: uppercase; vertical-align: middle; margin-left: 0.5rem\">LOC</span>\n",
              "</mark>\n",
              "事務職ですが凛となる試合となります。 女子フライ級4回戦で行われます\n",
              "<mark class=\"entity\" style=\"background: #c266ff; padding: 0.45em 0.6em; margin: 0 0.25em; line-height: 1; border-radius: 0.35em;\">\n",
              "    阿比留通子\n",
              "    <span style=\"font-size: 0.8em; font-weight: bold; line-height: 1; border-radius: 0.35em; text-transform: uppercase; vertical-align: middle; margin-left: 0.5rem\">PERSON</span>\n",
              "</mark>\n",
              "対\n",
              "<mark class=\"entity\" style=\"background: #c266ff; padding: 0.45em 0.6em; margin: 0 0.25em; line-height: 1; border-radius: 0.35em;\">\n",
              "    浜田麻里奈\n",
              "    <span style=\"font-size: 0.8em; font-weight: bold; line-height: 1; border-radius: 0.35em; text-transform: uppercase; vertical-align: middle; margin-left: 0.5rem\">PERSON</span>\n",
              "</mark>\n",
              "の一閃2人にとってさらに上のランクに上がるためには勝たなければいけない試合ということになります。 気合いは十分浴びる\n",
              "<mark class=\"entity\" style=\"background: #c266ff; padding: 0.45em 0.6em; margin: 0 0.25em; line-height: 1; border-radius: 0.35em;\">\n",
              "    みちこ\n",
              "    <span style=\"font-size: 0.8em; font-weight: bold; line-height: 1; border-radius: 0.35em; text-transform: uppercase; vertical-align: middle; margin-left: 0.5rem\">PERSON</span>\n",
              "</mark>\n",
              "。 女子プロ野球4回戦。 \n",
              "<mark class=\"entity\" style=\"background: #c266ff; padding: 0.45em 0.6em; margin: 0 0.25em; line-height: 1; border-radius: 0.35em;\">\n",
              "    阿比留通子\n",
              "    <span style=\"font-size: 0.8em; font-weight: bold; line-height: 1; border-radius: 0.35em; text-transform: uppercase; vertical-align: middle; margin-left: 0.5rem\">PERSON</span>\n",
              "</mark>\n",
              "たい\n",
              "<mark class=\"entity\" style=\"background: #c266ff; padding: 0.45em 0.6em; margin: 0 0.25em; line-height: 1; border-radius: 0.35em;\">\n",
              "    濱田満里奈\n",
              "    <span style=\"font-size: 0.8em; font-weight: bold; line-height: 1; border-radius: 0.35em; text-transform: uppercase; vertical-align: middle; margin-left: 0.5rem\">PERSON</span>\n",
              "</mark>\n",
              "の一戦ですこの試合の解説は真正\n",
              "<mark class=\"entity\" style=\"background: #c266ff; padding: 0.45em 0.6em; margin: 0 0.25em; line-height: 1; border-radius: 0.35em;\">\n",
              "    ジム伊賀かおり\n",
              "    <span style=\"font-size: 0.8em; font-weight: bold; line-height: 1; border-radius: 0.35em; text-transform: uppercase; vertical-align: middle; margin-left: 0.5rem\">PERSON</span>\n",
              "</mark>\n",
              "さんにお越しいただいていますどうぞよろしくお願いしますが売っていたのは\n",
              "<mark class=\"entity\" style=\"background: #c266ff; padding: 0.45em 0.6em; margin: 0 0.25em; line-height: 1; border-radius: 0.35em;\">\n",
              "    阿比留通子\n",
              "    <span style=\"font-size: 0.8em; font-weight: bold; line-height: 1; border-radius: 0.35em; text-transform: uppercase; vertical-align: middle; margin-left: 0.5rem\">PERSON</span>\n",
              "</mark>\n",
              "ですが3個の試合女子フライ級4回戦で行われますがまずはどういったところがポイントになってきそうですかそうですねあのま前回以前の試合両選手ともあの拝見させていただいたんですけどあのやっぱり今4回戦なのでまぁどれだけうち会えるか手数を多く出せるかっていうのがまあ勝敗の決め手になるんじゃないかなと思いますはい試合始まって左のジャブを作り出していくのは\n",
              "<mark class=\"entity\" style=\"background: #c266ff; padding: 0.45em 0.6em; margin: 0 0.25em; line-height: 1; border-radius: 0.35em;\">\n",
              "    阿比留通子青\n",
              "    <span style=\"font-size: 0.8em; font-weight: bold; line-height: 1; border-radius: 0.35em; text-transform: uppercase; vertical-align: middle; margin-left: 0.5rem\">PERSON</span>\n",
              "</mark>\n",
              "のグローブです対する赤のグローブ\n",
              "<mark class=\"entity\" style=\"background: #c266ff; padding: 0.45em 0.6em; margin: 0 0.25em; line-height: 1; border-radius: 0.35em;\">\n",
              "    浜田麻里奈\n",
              "    <span style=\"font-size: 0.8em; font-weight: bold; line-height: 1; border-radius: 0.35em; text-transform: uppercase; vertical-align: middle; margin-left: 0.5rem\">PERSON</span>\n",
              "</mark>\n",
              "はこれが4000名これまでビューしてから待ち合わせしません2勝一分けこういったプロの舞台で勝てる巻きを知らないというのはひとつ。 それと行ってきます\n",
              "<mark class=\"entity\" style=\"background: #c266ff; padding: 0.45em 0.6em; margin: 0 0.25em; line-height: 1; border-radius: 0.35em;\">\n",
              "    浜田麻里奈\n",
              "    <span style=\"font-size: 0.8em; font-weight: bold; line-height: 1; border-radius: 0.35em; text-transform: uppercase; vertical-align: middle; margin-left: 0.5rem\">PERSON</span>\n",
              "</mark>\n",
              "でーす\n",
              "<mark class=\"entity\" style=\"background: #c266ff; padding: 0.45em 0.6em; margin: 0 0.25em; line-height: 1; border-radius: 0.35em;\">\n",
              "    木田\n",
              "    <span style=\"font-size: 0.8em; font-weight: bold; line-height: 1; border-radius: 0.35em; text-transform: uppercase; vertical-align: middle; margin-left: 0.5rem\">PERSON</span>\n",
              "</mark>\n",
              "さん風呂にとっては巻き方知らないというのは人という時になりますねそうですねやっぱりあのまあずっと果実麻痺気持ち悪そうで心配する浴びるですが\n",
              "<mark class=\"entity\" style=\"background: #ff9561; padding: 0.45em 0.6em; margin: 0 0.25em; line-height: 1; border-radius: 0.35em;\">\n",
              "    東京\n",
              "    <span style=\"font-size: 0.8em; font-weight: bold; line-height: 1; border-radius: 0.35em; text-transform: uppercase; vertical-align: middle; margin-left: 0.5rem\">LOC</span>\n",
              "</mark>\n",
              "からやってきました以前の試合はかなり前に出ると言うどんどんてかとを出してという試合もありましたがこの試合は落ち着いてジャズも交えながらという展開になっていますねそうですねあのしっかりお互い両選手とも写真がはっきりしてるそうですねはいこの浴びるですがこれまで少し自分のボクシングどんどん前に出てこ五十肩って待ってしまうことが多いなと思うところはしっかり落ち着いて試合展開していきたいなという話もしていましたが第1ラウンドですお互いに距離を見あって喜んでたのはあるんじゃない。 フライ級の面接を行っています\n",
              "<mark class=\"entity\" style=\"background: #ff9561; padding: 0.45em 0.6em; margin: 0 0.25em; line-height: 1; border-radius: 0.35em;\">\n",
              "    兵庫県神戸市\n",
              "    <span style=\"font-size: 0.8em; font-weight: bold; line-height: 1; border-radius: 0.35em; text-transform: uppercase; vertical-align: middle; margin-left: 0.5rem\">LOC</span>\n",
              "</mark>\n",
              "の試合試合中なんで行ってまいりました\n",
              "<mark class=\"entity\" style=\"background: #adff2f; padding: 0.45em 0.6em; margin: 0 0.25em; line-height: 1; border-radius: 0.35em;\">\n",
              "    今日\n",
              "    <span style=\"font-size: 0.8em; font-weight: bold; line-height: 1; border-radius: 0.35em; text-transform: uppercase; vertical-align: middle; margin-left: 0.5rem\">DATE</span>\n",
              "</mark>\n",
              "は一つ KO 勝利3連敗からの2連勝もありましたがさんデビューしてからなかなか勝てずにで浴びるですが2連勝もあってボクシングを続ける上で勝てない日々が続けてのはメンタル的にはどうなんですかねやっぱりあのま2連敗3連敗してくるとどうしても書かないといけないっていうプレッシャーもすごく選手にとっては大きくかかってくると思いますそうですね第2ラウンドが始まりました。 左の茶道ていくやはりこの辺りは手数を増やして配達なのはどういったところが大切ですかにランドに入りました良い選手なのでしっかり足を使っている編集の動きを交わして立ち寄っていきそうですねいいと思うんですけどはいやりました調整しますのでどんどんしっかりと前に出て手数たくさん出してそうですねあれは試合開始からして傘も出ている中で\n",
              "<mark class=\"entity\" style=\"background: #c266ff; padding: 0.45em 0.6em; margin: 0 0.25em; line-height: 1; border-radius: 0.35em;\">\n",
              "    浜田\n",
              "    <span style=\"font-size: 0.8em; font-weight: bold; line-height: 1; border-radius: 0.35em; text-transform: uppercase; vertical-align: middle; margin-left: 0.5rem\">PERSON</span>\n",
              "</mark>\n",
              "はフットワークを生かしてその攻撃を避けながらパンツはどれくらいの高さになりました印象ですねいいですねあの両選手ともしっかりジャムが出せているので見るとしっかり浴びるが入ってきたところをカメラがしっかりか。 返していくという展開もありますねはいしたことがあるんですけどパンチが市刈和野打ち込める選手なのに黒いとカウンターをしっかり寝られているのではい捕まえた強いパンチ右が非常に伸びている皆ストレートですやはりフットワークを活かしながら相手の出てくるところ待って攻撃をかわしているというここまでの展開ですねすごいを変えているのでまぁこの調子でしたら相手の動きを探しながら狙って欲しいですね\n",
              "<mark class=\"entity\" style=\"background: #ff9561; padding: 0.45em 0.6em; margin: 0 0.25em; line-height: 1; border-radius: 0.35em;\">\n",
              "    ハイランド\n",
              "    <span style=\"font-size: 0.8em; font-weight: bold; line-height: 1; border-radius: 0.35em; text-transform: uppercase; vertical-align: middle; margin-left: 0.5rem\">LOC</span>\n",
              "</mark>\n",
              "まで前半戦が終了しています。 まさにここまで前半戦まで終わりましたがお互い両者の動きいかがですかいやあの選手も打たれながらもあるしっかり落ち着いてあのごちゃごちゃ前に行かずについていけてるのでその点はすごくいいと思いますこれは先ほどの第2ラウンド中盤のラッシュのシーンですが隣のパンチが交錯するというシーンも出てきましたねこのまボクシングにとって距離というのがひとつか気になると思うんですがこの距離どちらの距離と言えますかうまく足でさばいて\n",
              "<mark class=\"entity\" style=\"background: #7aecec; padding: 0.45em 0.6em; margin: 0 0.25em; line-height: 1; border-radius: 0.35em;\">\n",
              "    ジャブっ\n",
              "    <span style=\"font-size: 0.8em; font-weight: bold; line-height: 1; border-radius: 0.35em; text-transform: uppercase; vertical-align: middle; margin-left: 0.5rem\">ORG</span>\n",
              "</mark>\n",
              "てるのは雨\n",
              "<mark class=\"entity\" style=\"background: #c266ff; padding: 0.45em 0.6em; margin: 0 0.25em; line-height: 1; border-radius: 0.35em;\">\n",
              "    浜田\n",
              "    <span style=\"font-size: 0.8em; font-weight: bold; line-height: 1; border-radius: 0.35em; text-transform: uppercase; vertical-align: middle; margin-left: 0.5rem\">PERSON</span>\n",
              "</mark>\n",
              "選手のほうかなという印象がありません後半に向けてアピールが必要になってくるのはどういったところでしょうかいいところでもあるのでなんて書くしっかり出してでも。 しっかりと確実に当てていくパンチを出していくこと確認とかなと思いますがこれまでの浴びるの試合展開とは違ったまた違った落ち着いた左のジャブから組み立てていくというのは右のストレートを打ち込んでいったところ\n",
              "<mark class=\"entity\" style=\"background: #c266ff; padding: 0.45em 0.6em; margin: 0 0.25em; line-height: 1; border-radius: 0.35em;\">\n",
              "    浜田\n",
              "    <span style=\"font-size: 0.8em; font-weight: bold; line-height: 1; border-radius: 0.35em; text-transform: uppercase; vertical-align: middle; margin-left: 0.5rem\">PERSON</span>\n",
              "</mark>\n",
              "も返して行きました落ち着いて試合展開ができているのも\n",
              "<mark class=\"entity\" style=\"background: #c266ff; padding: 0.45em 0.6em; margin: 0 0.25em; line-height: 1; border-radius: 0.35em;\">\n",
              "    浜田浴びる\n",
              "    <span style=\"font-size: 0.8em; font-weight: bold; line-height: 1; border-radius: 0.35em; text-transform: uppercase; vertical-align: middle; margin-left: 0.5rem\">PERSON</span>\n",
              "</mark>\n",
              "の成長もあります左のジャブただ試合時間が短いという中で得た数もどんどん出していきたい良性の戦い試合は後半戦へと入っていています女子フライ級4回戦以来の服の上からでもしっかりパンチですねあのま4回生なんであっという間に終わってしまうのでしっかりて数出していった方やっぱりポイント高いので右の曲。 お互い両者ともうちあってほしいですねいろんな人にもそれを右のプレハブも返して行くよこういうところ気持ちのぶつかり合いしっかりパンツも出ていますねんしもしっかりと固めてあの\n",
              "<mark class=\"entity\" style=\"background: #c266ff; padding: 0.45em 0.6em; margin: 0 0.25em; line-height: 1; border-radius: 0.35em;\">\n",
              "    阿部\n",
              "    <span style=\"font-size: 0.8em; font-weight: bold; line-height: 1; border-radius: 0.35em; text-transform: uppercase; vertical-align: middle; margin-left: 0.5rem\">PERSON</span>\n",
              "</mark>\n",
              "選手のあのそれとちょっと気をつけてて欲しいですねそうですね前の資格持っています一生のうち一つは KO 勝利で飾っている浴びるですたら少し雨にの顔が赤くなってきたかな友達作りが音を上げていきたいと令と戦いしていけない\n",
              "<mark class=\"entity\" style=\"background: #c266ff; padding: 0.45em 0.6em; margin: 0 0.25em; line-height: 1; border-radius: 0.35em;\">\n",
              "    浜田\n",
              "    <span style=\"font-size: 0.8em; font-weight: bold; line-height: 1; border-radius: 0.35em; text-transform: uppercase; vertical-align: middle; margin-left: 0.5rem\">PERSON</span>\n",
              "</mark>\n",
              "ようでしたら少し体力的に育ったらもう一度なのでここちょっと気合いで楽しいですねだいさんランドマーク予定。 のどぐろ\n",
              "<mark class=\"entity\" style=\"background: #7aecec; padding: 0.45em 0.6em; margin: 0 0.25em; line-height: 1; border-radius: 0.35em;\">\n",
              "    日本海ファイナルランド\n",
              "    <span style=\"font-size: 0.8em; font-weight: bold; line-height: 1; border-radius: 0.35em; text-transform: uppercase; vertical-align: middle; margin-left: 0.5rem\">ORG</span>\n",
              "</mark>\n",
              "ということになりますからしっかり手数が出している異常者ですが少し体力的にもきつくなってきたところで残り2分間ポイントになるゆるコーラをどんどん出せるかどうかこれは第3ラウンドの\n",
              "<mark class=\"entity\" style=\"background: #c266ff; padding: 0.45em 0.6em; margin: 0 0.25em; line-height: 1; border-radius: 0.35em;\">\n",
              "    浜田\n",
              "    <span style=\"font-size: 0.8em; font-weight: bold; line-height: 1; border-radius: 0.35em; text-transform: uppercase; vertical-align: middle; margin-left: 0.5rem\">PERSON</span>\n",
              "</mark>\n",
              "のラッシュたら浴びるもしっかり返している右のストレートも出ました。 お互いが少し小降りになってきたところで当たれば危険というところもありますねお互いに今ちょっとこれパンチもありそうなのであり得るので雑にならないようにしっかりガードあげて最後のラウンドはまって欲しいですね会場からは大きな拍手女子フライ級4回戦ファイナルラウンドへと入って行きます何にも残り2分間となりますトレードフットワークを生かした状態よりいらしてパンチをかわしていく\n",
              "<mark class=\"entity\" style=\"background: #c266ff; padding: 0.45em 0.6em; margin: 0 0.25em; line-height: 1; border-radius: 0.35em;\">\n",
              "    浜田\n",
              "    <span style=\"font-size: 0.8em; font-weight: bold; line-height: 1; border-radius: 0.35em; text-transform: uppercase; vertical-align: middle; margin-left: 0.5rem\">PERSON</span>\n",
              "</mark>\n",
              "お互いです来てほしいですねよかったとみんなストレートカーブの上からでもしっかりて画像出してもう最後は気持ちいい勝負でした。 もう死んだがいて数出してミリタリーまとめて行けと友人会からの声はまだやっぱり家の\n",
              "<mark class=\"entity\" style=\"background: #c266ff; padding: 0.45em 0.6em; margin: 0 0.25em; line-height: 1; border-radius: 0.35em;\">\n",
              "    阿部\n",
              "    <span style=\"font-size: 0.8em; font-weight: bold; line-height: 1; border-radius: 0.35em; text-transform: uppercase; vertical-align: middle; margin-left: 0.5rem\">PERSON</span>\n",
              "</mark>\n",
              "選手のあの日一日のこの手数の多さがすごくいいですね気持ちでは負けないピンチになってもめんたる気持ちでは負けないんだという風に浴びるは話していました残り1分を切って前に前に出ている様々でもよく見えてますねとワークを生かして試合開始から相手の攻撃をかわしている\n",
              "<mark class=\"entity\" style=\"background: #c266ff; padding: 0.45em 0.6em; margin: 0 0.25em; line-height: 1; border-radius: 0.35em;\">\n",
              "    浜田\n",
              "    <span style=\"font-size: 0.8em; font-weight: bold; line-height: 1; border-radius: 0.35em; text-transform: uppercase; vertical-align: middle; margin-left: 0.5rem\">PERSON</span>\n",
              "</mark>\n",
              "です。 40でできるか左のジャブが伸びて\n",
              "<mark class=\"entity\" style=\"background: #c266ff; padding: 0.45em 0.6em; margin: 0 0.25em; line-height: 1; border-radius: 0.35em;\">\n",
              "    るみ\n",
              "    <span style=\"font-size: 0.8em; font-weight: bold; line-height: 1; border-radius: 0.35em; text-transform: uppercase; vertical-align: middle; margin-left: 0.5rem\">PERSON</span>\n",
              "</mark>\n",
              "のトレと近い距離になってしっかりてガタガタしていますかそうですねお互いいく文字数に入るので行きませんね私が近くなってパンチラ交錯するシーンが増えてきましたが残り20秒切っている。 妻は気持ちの勝負だ残り10秒どんどん前に出る最後パンチラだせいか気持ちの\n",
              "<mark class=\"entity\" style=\"background: #bfeeb7; padding: 0.45em 0.6em; margin: 0 0.25em; line-height: 1; border-radius: 0.35em;\">\n",
              "    ソーダコング\n",
              "    <span style=\"font-size: 0.8em; font-weight: bold; line-height: 1; border-radius: 0.35em; text-transform: uppercase; vertical-align: middle; margin-left: 0.5rem\">PRODUCT</span>\n",
              "</mark>\n",
              "やがりました女子フライ級4回戦\n",
              "<mark class=\"entity\" style=\"background: #c266ff; padding: 0.45em 0.6em; margin: 0 0.25em; line-height: 1; border-radius: 0.35em;\">\n",
              "    浜田麻里\n",
              "    <span style=\"font-size: 0.8em; font-weight: bold; line-height: 1; border-radius: 0.35em; text-transform: uppercase; vertical-align: middle; margin-left: 0.5rem\">PERSON</span>\n",
              "</mark>\n",
              "の大\n",
              "<mark class=\"entity\" style=\"background: #c266ff; padding: 0.45em 0.6em; margin: 0 0.25em; line-height: 1; border-radius: 0.35em;\">\n",
              "    阿比留通子\n",
              "    <span style=\"font-size: 0.8em; font-weight: bold; line-height: 1; border-radius: 0.35em; text-transform: uppercase; vertical-align: middle; margin-left: 0.5rem\">PERSON</span>\n",
              "</mark>\n",
              "の試合は判定へと移っていきますお互いの気持ちが垣間見えたそんな試合になりましたねそうですね二人ともすごく気持ちいい最後まで強く良かったと思います最後まで一歩も引かない両者の戦いになりました。 実の姉があなたにとっては地元なのになりました36以上3と20が反応しフットワークを生かして相手の攻撃を逃し有効打をしっかりやってた\n",
              "<mark class=\"entity\" style=\"background: #c266ff; padding: 0.45em 0.6em; margin: 0 0.25em; line-height: 1; border-radius: 0.35em;\">\n",
              "    浜田\n",
              "    <span style=\"font-size: 0.8em; font-weight: bold; line-height: 1; border-radius: 0.35em; text-transform: uppercase; vertical-align: middle; margin-left: 0.5rem\">PERSON</span>\n",
              "</mark>\n",
              "が勝ちました3体で\n",
              "<mark class=\"entity\" style=\"background: #c266ff; padding: 0.45em 0.6em; margin: 0 0.25em; line-height: 1; border-radius: 0.35em;\">\n",
              "    浜田麻里奈\n",
              "    <span style=\"font-size: 0.8em; font-weight: bold; line-height: 1; border-radius: 0.35em; text-transform: uppercase; vertical-align: middle; margin-left: 0.5rem\">PERSON</span>\n",
              "</mark>\n",
              "の安全処理となっています二人は車取ってましたねそうですねやっぱり\n",
              "<mark class=\"entity\" style=\"background: #c266ff; padding: 0.45em 0.6em; margin: 0 0.25em; line-height: 1; border-radius: 0.35em;\">\n",
              "    浜田\n",
              "    <span style=\"font-size: 0.8em; font-weight: bold; line-height: 1; border-radius: 0.35em; text-transform: uppercase; vertical-align: middle; margin-left: 0.5rem\">PERSON</span>\n",
              "</mark>\n",
              "さんのあのうまく相手のパンチをかわしていたのでその点がすごく良かったなと思いますまた破れたあびるもしっかり前に出てて画像出していた印象ですが凄く落ち着いて運びを出来ていたのでますのでも本当に浴びる選手も良かったなと。 ですけどもうちょっと惜しかったですねはい女子フライ級4回戦\n",
              "<mark class=\"entity\" style=\"background: #c266ff; padding: 0.45em 0.6em; margin: 0 0.25em; line-height: 1; border-radius: 0.35em;\">\n",
              "    浜田麻里奈\n",
              "    <span style=\"font-size: 0.8em; font-weight: bold; line-height: 1; border-radius: 0.35em; text-transform: uppercase; vertical-align: middle; margin-left: 0.5rem\">PERSON</span>\n",
              "</mark>\n",
              "対\n",
              "<mark class=\"entity\" style=\"background: #c266ff; padding: 0.45em 0.6em; margin: 0 0.25em; line-height: 1; border-radius: 0.35em;\">\n",
              "    阿比留通子\n",
              "    <span style=\"font-size: 0.8em; font-weight: bold; line-height: 1; border-radius: 0.35em; text-transform: uppercase; vertical-align: middle; margin-left: 0.5rem\">PERSON</span>\n",
              "</mark>\n",
              "は\n",
              "<mark class=\"entity\" style=\"background: #c266ff; padding: 0.45em 0.6em; margin: 0 0.25em; line-height: 1; border-radius: 0.35em;\">\n",
              "    浜田麻里奈\n",
              "    <span style=\"font-size: 0.8em; font-weight: bold; line-height: 1; border-radius: 0.35em; text-transform: uppercase; vertical-align: middle; margin-left: 0.5rem\">PERSON</span>\n",
              "</mark>\n",
              "の判定勝利ということになります地元からも大きな拍手に迎えられて退場していきましたこの放送の解説は\n",
              "<mark class=\"entity\" style=\"background: #c266ff; padding: 0.45em 0.6em; margin: 0 0.25em; line-height: 1; border-radius: 0.35em;\">\n",
              "    伊賀かおり\n",
              "    <span style=\"font-size: 0.8em; font-weight: bold; line-height: 1; border-radius: 0.35em; text-transform: uppercase; vertical-align: middle; margin-left: 0.5rem\">PERSON</span>\n",
              "</mark>\n",
              "さんでしたどうぞどうもありがとうございましたございました本日第5試合に予定していましたクラトキジム\n",
              "<mark class=\"entity\" style=\"background: #c266ff; padding: 0.45em 0.6em; margin: 0 0.25em; line-height: 1; border-radius: 0.35em;\">\n",
              "    竹本\n",
              "    <span style=\"font-size: 0.8em; font-weight: bold; line-height: 1; border-radius: 0.35em; text-transform: uppercase; vertical-align: middle; margin-left: 0.5rem\">PERSON</span>\n",
              "</mark>\n",
              "選手対\n",
              "<mark class=\"entity\" style=\"background: #ff9561; padding: 0.45em 0.6em; margin: 0 0.25em; line-height: 1; border-radius: 0.35em;\">\n",
              "    名古屋\n",
              "    <span style=\"font-size: 0.8em; font-weight: bold; line-height: 1; border-radius: 0.35em; text-transform: uppercase; vertical-align: middle; margin-left: 0.5rem\">LOC</span>\n",
              "</mark>\n",
              "。 </div></span>"
            ],
            "text/plain": [
              "<IPython.core.display.HTML object>"
            ]
          },
          "metadata": {
            "tags": []
          }
        }
      ]
    },
    {
      "cell_type": "code",
      "metadata": {
        "id": "8Y9pnjXCRplD"
      },
      "source": [
        ""
      ],
      "execution_count": 15,
      "outputs": []
    },
    {
      "cell_type": "code",
      "metadata": {
        "id": "ulxylxa1Rpnc"
      },
      "source": [
        ""
      ],
      "execution_count": 15,
      "outputs": []
    },
    {
      "cell_type": "code",
      "metadata": {
        "id": "52c3hFQvRnFE"
      },
      "source": [
        "result_text = ''\n",
        "# 文単位でループ\n",
        "for sent in doc.sents:\n",
        "  # 形態素単位でループ\n",
        "  for token in sent:\n",
        "    hasText = True\n",
        "    # 固有表現の取得\n",
        "    for ent in sent.ents:\n",
        "      # 置換しない固有表現\n",
        "      if ent.label_ in ['LOC', 'DATE', 'TIME', 'PERCENT']:\n",
        "        continue\n",
        "      # 固有表現のテキストが一致した場合置換\n",
        "      if token.text == ent.text:\n",
        "        hasText = False\n",
        "        # ent.label_ の意味合い\n",
        "        # 組織名 (ORGANIZATION)、人名 (PERSON)、地名 (LOCATION)、日付表現 (DATE)、時間表現 (TIME)、金額表現 (MONEY)、割合表現 (PERCENT)\n",
        "        result_text = result_text + ent.label_\n",
        "        # 一度一致したら次の形態素の解析に移る\n",
        "        break\n",
        "    if hasText:\n",
        "      # 固有表現がないのでそのまま保持\n",
        "      result_text = result_text + token.text\n",
        "  # 文章単位で改行\n",
        "  result_text = result_text + '\\n'"
      ],
      "execution_count": 19,
      "outputs": []
    },
    {
      "cell_type": "code",
      "metadata": {
        "colab": {
          "base_uri": "https://localhost:8080/",
          "height": 194
        },
        "id": "-JtEJv0ZRnJW",
        "outputId": "1d349b50-5f8c-4576-e25d-e2ea0574eb10"
      },
      "source": [
        "result_text"
      ],
      "execution_count": 20,
      "outputs": [
        {
          "output_type": "execute_result",
          "data": {
            "application/vnd.google.colaboratory.intrinsic+json": {
              "type": "string"
            },
            "text/plain": [
              "'神戸市立中央体育館です\\n2021年西日本では初めての試合ということになります失礼します\\n野菜の工業ということになります\\n今日は西日本全国各地で雨が降っています\\n春の嵐となっていますが点いたり時に冷たい雨が降ったりまさに三寒四温春の訪れを感じさせるような雨でもどうなっています。\\n青コーナーから入場してきました\\n明美智子東京世田谷大蔵ジムジムで戦って2勝4敗\\nこれが7000目ということになりますデビューしてからなかなか勝てずに3連敗からの2連勝もあり昨年の10月に敗れて再びこれが作戦ということになります\\n強い気持ちを持ってどんどん前に出る阿比留通子のボクシング今日も見られるんでしょうか。\\n階段の前で一つ精神統一リングを見ました。\\n階段を踏みしめるように上がって今リング院です\\n阿比留通子青コーナーから入場しました。\\n女子フライ級4回戦で行われる阿比留通子対浜田麻里奈の一閃阿比留通子三十歳。\\nもう破れた後に練習を回ってピンチの中でもしっかり気持ちで負けないメンタルを使ってきましたという風に全然語っていました\\nそして赤コーナーから入場してきました\\n浜田麻里な兵庫県神戸市出身地元の試合ということもあって大きな拍手に包まれています\\n神戸市立中央体育館です\\n日本女子フライ級5位に位置しているランクインしている浜田麻里奈入場してきました。\\n御堂筋。\\n階段を上っていきます\\nこれが4000目\\nこれまでデビューしてから負けを知りません浜田麻里奈今リング院です\\n地元の観客からは大きな拍手が送られていますかまだマイナーこれが4点目\\n地元での試合ということになります\\n観客に向かってメールをして試合に臨みます。\\n阿比留通子30回東京世田谷大蔵事務職ですが凛となる試合となります。\\n女子フライ級4回戦で行われます\\n阿比留通子対浜田麻里奈の一閃2人にとってさらに上のランクに上がるためには勝たなければいけない試合ということになります。\\n気合いは十分浴びるPERSON。\\n女子プロ野球4回戦。\\n阿比留通子たい濱田満里奈の一戦です\\nこの試合の解説は真正ジム伊賀かおりさんにお越しいただいています\\nどうぞよろしくお願いしますが売っていたのは阿比留通子ですが3個の試合女子フライ級4回戦で行われますがまずはどういったところがポイントになってきそうですかそうですね\\nあのま前回以前の試合両選手ともあの拝見させていただいたんですけどあのやっぱり今4回戦なのでまぁどれだけうち会えるか手数を多く出せるかっていうのがまあ勝敗の決め手になるんじゃないかなと思います\\nはい試合始まって左のジャブを作り出していくのは阿比留通子青のグローブです対する赤のグローブ浜田麻里奈はこれが4000名これまでビューしてから待ち合わせしません2勝一分け\\nこういったプロの舞台で勝てる巻きを知らないというのはひとつ。\\nそれと行ってきます\\n浜田麻里奈でーす\\nPERSONさん風呂にとっては巻き方知らないというのは人という時になりますね\\nそうですね\\nやっぱりあのまあずっと果実麻痺気持ち悪そうで心配する浴びるですが東京からやってきました以前の試合はかなり前に出ると言うどんどんてかとを出してという試合もありましたがこの試合は落ち着いてジャズも交えながらという展開になっていますね\\nそうですね\\nあのしっかりお互い両選手とも写真がはっきりしてるそうですね\\nはいこの浴びるですがこれまで少し自分のボクシングどんどん前に出てこ五十肩って待ってしまうことが多いなと思うところはしっかり落ち着いて試合展開していきたいなという話もしていましたが第1ラウンドです\\nお互いに距離を見あって喜んでたのはあるんじゃない。\\nフライ級の面接を行っています\\n兵庫県神戸市の試合試合中なんで行ってまいりました\\n今日は一つKO勝利3連敗からの2連勝もありましたがさんデビューしてからなかなか勝てずにで浴びるですが2連勝もあってボクシングを続ける上で勝てない日々が続けてのはメンタル的にはどうなんですかね\\nやっぱりあのま2連敗3連敗してくるとどうしても書かないといけないっていうプレッシャーもすごく選手にとっては大きくかかってくると思いますそうですね\\n第2ラウンドが始まりました。\\n左の茶道ていくやはりこの辺りは手数を増やして配達なのはどういったところが大切ですかにランドに入りました\\n良い選手なのでしっかり足を使っている編集の動きを交わして立ち寄っていきそうですねいいと思うんですけどはいやりました調整しますのでどんどんしっかりと前に出て手数たくさん出してそうですね\\nあれは試合開始からして傘も出ている中でPERSONはフットワークを生かしてその攻撃を避けながらパンツはどれくらいの高さになりました印象ですねいいですね\\nあの両選手ともしっかりジャムが出せているので見るとしっかり浴びるが入ってきたところをカメラがしっかりか。\\n返していくという展開もありますね\\nはいしたことがあるんですけどパンチが市刈和野打ち込める選手なのに黒いとカウンターをしっかり寝られているのではい捕まえた強いパンチ右が非常に伸びている皆ストレートです\\nやはりフットワークを活かしながら相手の出てくるところ待って攻撃をかわしているというここまでの展開ですねすごいを変えているのでまぁこの調子でしたら相手の動きを探しながら狙って欲しいですね\\nハイランドまで前半戦が終了しています。\\nまさにここまで前半戦まで終わりましたがお互い両者の動きいかがですかいやあの選手も打たれながらもあるしっかり落ち着いてあのごちゃごちゃ前に行かずについていけてるのでその点はすごくいいと思います\\nこれは先ほどの第2ラウンド中盤のラッシュのシーンですが隣のパンチが交錯するというシーンも出てきましたね\\nこのまボクシングにとって距離というのがひとつか気になると思うんですがこの距離どちらの距離と言えますかうまく足でさばいてジャブってるのは雨PERSON選手のほうかなという印象がありません後半に向けてアピールが必要になってくるのはどういったところでしょうかいいところでもあるのでなんて書くしっかり出してでも。\\nしっかりと確実に当てていくパンチを出していくこと確認とかなと思いますがこれまでの浴びるの試合展開とは違ったまた違った落ち着いた左のジャブから組み立てていくというのは右のストレートを打ち込んでいったところPERSONも返して行きました\\n落ち着いて試合展開ができているのも浜田浴びるの成長もあります\\n左のジャブただ試合時間が短いという中で得た数もどんどん出していきたい良性の戦い試合は後半戦へと入っていています\\n女子フライ級4回戦以来の服の上からでもしっかりパンチですね\\nあのま4回生なんであっという間に終わってしまうのでしっかりて数出していった方やっぱりポイント高いので右の曲。\\nお互い両者ともうちあってほしいですね\\nいろんな人にもそれを右のプレハブも返して行くよ\\nこういうところ気持ちのぶつかり合いしっかりパンツも出ていますねん\\nしもしっかりと固めてあのPERSON選手のあのそれとちょっと気をつけてて欲しいですね\\nそうですね前の資格持っています\\n一生のうち一つはKO勝利で飾っている浴びるですたら少し雨にの顔が赤くなってきたかな友達作りが音を上げていきたいと令と戦いしていけないPERSONようでしたら少し体力的に育ったらもう一度なのでここちょっと気合いで楽しいですねだいさんランドマーク予定。\\nのどぐろ日本海ファイナルランドということになりますからしっかり手数が出している異常者ですが少し体力的にもきつくなってきたところで残り2分間ポイントになるゆるコーラをどんどん出せるかどうかこれは第3ラウンドのPERSONのラッシュたら浴びるもしっかり返している右のストレートも出ました。\\nお互いが少し小降りになってきたところで当たれば危険というところもありますね\\nお互いに今ちょっとこれパンチもありそうなのであり得るので雑にならないようにしっかりガードあげて最後のラウンドはまって欲しいですね\\n会場からは大きな拍手女子フライ級4回戦ファイナルラウンドへと入って行きます\\n何にも残り2分間となります\\nトレードフットワークを生かした状態よりいらしてパンチをかわしていくPERSONお互いです来てほしいですね\\nよかったとみんなストレートカーブの上からでもしっかりて画像出してもう最後は気持ちいい勝負でした。\\nもう死んだがいて数出してミリタリーまとめて行けと友人会からの声はまだやっぱり家のPERSON選手のあの日一日のこの手数の多さがすごくいいですね\\n気持ちでは負けないピンチになってもめんたる気持ちでは負けないんだという風に浴びるは話していました\\n残り1分を切って前に前に出ている様々でもよく見えてますねとワークを生かして試合開始から相手の攻撃をかわしているPERSONです。\\n40でできるか左のジャブが伸びてPERSONのトレと近い距離になってしっかりてガタガタしていますかそうですね\\nお互いいく文字数に入るので行きませんね\\n私が近くなってパンチラ交錯するシーンが増えてきましたが残り20秒切っている。\\n妻は気持ちの勝負だ残り10秒どんどん前に出る最後パンチラだせいか気持ちのソーダコングやがりました\\n女子フライ級4回戦浜田麻里の大阿比留通子の試合は判定へと移っていきます\\nお互いの気持ちが垣間見えたそんな試合になりましたね\\nそうですね\\n二人ともすごく気持ちいい最後まで強く良かったと思います\\n最後まで一歩も引かない両者の戦いになりました。\\n実の姉があなたにとっては地元なのになりました\\n36以上3と20が反応しフットワークを生かして相手の攻撃を逃し有効打をしっかりやってたPERSONが勝ちました\\n3体で浜田麻里奈の安全処理となっています\\n二人は車取ってましたね\\nそうですね\\nやっぱりPERSONさんのあのうまく相手のパンチをかわしていたのでその点がすごく良かったなと思います\\nまた破れたあびるもしっかり前に出てて画像出していた印象ですが凄く落ち着いて運びを出来ていたのでますのでも本当に浴びる選手も良かったなと。\\nですけどもうちょっと惜しかったですね\\nはい女子フライ級4回戦浜田麻里奈対阿比留通子は浜田麻里奈の判定勝利ということになります\\n地元からも大きな拍手に迎えられて退場していきました\\nこの放送の解説は伊賀かおりさんでした\\nどうぞどうもありがとうございましたございました\\n本日第5試合に予定していました\\nクラトキジムPERSON選手対名古屋。\\n'"
            ]
          },
          "metadata": {
            "tags": []
          },
          "execution_count": 20
        }
      ]
    },
    {
      "cell_type": "code",
      "metadata": {
        "id": "NJpSl_hhXV-a"
      },
      "source": [
        "path_w = 'train_0001_ent.txt'\n",
        "with open(path_w, mode='w') as f_out:\n",
        "  f_out.write(result_text)"
      ],
      "execution_count": 21,
      "outputs": []
    },
    {
      "cell_type": "code",
      "metadata": {
        "id": "ZVqGwsnFYdBL"
      },
      "source": [
        ""
      ],
      "execution_count": 18,
      "outputs": []
    }
  ]
}